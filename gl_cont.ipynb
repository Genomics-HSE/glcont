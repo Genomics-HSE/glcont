{
 "cells": [
  {
   "cell_type": "code",
   "execution_count": null,
   "id": "09df247e-e635-4d16-a7e3-d7c0ad8fa9f5",
   "metadata": {},
   "outputs": [],
   "source": [
    "def is_notebook() -> bool:\n",
    "    try:\n",
    "        shell = get_ipython().__class__.__name__\n",
    "        if shell == 'ZMQInteractiveShell':\n",
    "            return True   # Jupyter notebook or qtconsole\n",
    "        elif shell == 'TerminalInteractiveShell':\n",
    "            return False  # Terminal running IPython\n",
    "        else:\n",
    "            return False  # Other type (?)\n",
    "    except NameError:\n",
    "        return False      # Probably standard Python interpreter"
   ]
  },
  {
   "cell_type": "code",
   "execution_count": null,
   "id": "b1aa75fe-421c-4a2a-b911-f7a276a9fc9e",
   "metadata": {},
   "outputs": [],
   "source": [
    "# Здесь загружаются названия референса, файла с ридами (bam), файла с геномами\n",
    "import argparse\n",
    "\n",
    "if is_notebook() == False:\n",
    "    parser = argparse.ArgumentParser(description='Supply reference fasta and bam file')\n",
    "    parser.add_argument('ref',\n",
    "                        help='reference fasta')\n",
    "    parser.add_argument('bam',\n",
    "                        help='bam file')\n",
    "    parser.add_argument('cont',\n",
    "                        help='list of contaminants fasta')\n",
    "\n",
    "\n",
    "    args = parser.parse_args()\n",
    "    ref_fname = args.ref\n",
    "    bam_fname = args.bam\n",
    "    genomes_fname = args.cont\n",
    "    \n",
    "else:\n",
    "    ref_fname     = 'refchrm.fa'\n",
    "    bam_fname     = 'iintest.bam'\n",
    "    genomes_fname = 'contaminants.fa'"
   ]
  },
  {
   "cell_type": "code",
   "execution_count": null,
   "id": "8e5fec4e-32d8-4cc2-9086-2618191e076b",
   "metadata": {},
   "outputs": [],
   "source": [
    "import os\n",
    "from collections import Counter\n",
    "import pysam\n",
    "import matplotlib.pyplot as plt\n",
    "import numpy as np\n",
    "from tqdm import tqdm\n",
    "from IPython.display import clear_output\n",
    "from scipy.special import binom\n",
    "import scipy.stats as st\n",
    "from Bio import SeqIO\n",
    "from Bio.Seq import Seq\n",
    "from Bio.SeqRecord import SeqRecord\n",
    "from multiprocess import Pool\n",
    "import matplotlib.pyplot as plt\n",
    "import seaborn as sns\n",
    "from preprocess import *\n",
    "from functions import *\n",
    "os.system('python setup.py build_ext --inplace')\n",
    "from MN import *"
   ]
  },
  {
   "cell_type": "code",
   "execution_count": null,
   "id": "8b35a145-06e6-4b4e-81db-8c68fc38ceb1",
   "metadata": {},
   "outputs": [],
   "source": [
    "def do_mcmc(n_iterations = 50000, output_file='', n_threads=8, model=0, show_each=10):\n",
    "    if output_file != '':\n",
    "        res = open(output_file,'w')\n",
    "    p_list = []\n",
    "    num_reads, num_genomes  = MC.shape\n",
    "    print(MC.shape)\n",
    "    p = np.random.dirichlet([1]*num_genomes)\n",
    "    # pool = Pool(n_threads)\n",
    "    for i in tqdm(range(n_iterations) ):\n",
    "        \n",
    "        func = lambda x: get_Zi(MC, p, base_err, x)\n",
    "        \n",
    "        # Z = np.array(pool.map_async(func, range(num_reads)).get())\n",
    "        Z = np.array([func(s) for s in range(num_reads) ])\n",
    "        eta = get_eta(Z, num_genomes)\n",
    "        if model == 0:\n",
    "            p0 = np.random.beta(1 + eta[0],1+num_reads-eta[0])\n",
    "            p_other = np.random.dirichlet(1+ eta[1:])\n",
    "            p_other *= (1-p0)/p_other.sum()\n",
    "\n",
    "            p[0] = p0\n",
    "            p[1:] = p_other\n",
    "            p_list.append(p[0])\n",
    "        else:\n",
    "            p = np.random.dirichlet(1+ eta)\n",
    "            p_list.append(p[0])\n",
    "        if output_file != '':\n",
    "            res.write(f'iteration {i}')\n",
    "            res.write(str(p[0]))\n",
    "        if i % show_each == 0:\n",
    "            # print(p[0], p[1:].sum()) \n",
    "            print(p)\n",
    "    # pool.close()\n",
    "    if output_file != '':\n",
    "        res.close()\n",
    "    return p_list"
   ]
  },
  {
   "cell_type": "code",
   "execution_count": null,
   "id": "a82e67d1-81e5-4541-b06f-76e76734529f",
   "metadata": {
    "tags": [
     "\"output_scroll\""
    ]
   },
   "outputs": [],
   "source": [
    "bam, genomes = preprocess(ref_fname, genomes_fname, bam_fname)"
   ]
  },
  {
   "cell_type": "code",
   "execution_count": null,
   "id": "ef5022fa-8d41-4b0b-8f70-47698cd03d6b",
   "metadata": {},
   "outputs": [],
   "source": [
    "genomes_arr = make_genomes_arr(genomes)"
   ]
  },
  {
   "cell_type": "code",
   "execution_count": null,
   "id": "48fcb8d5-78c1-484e-a736-0341bf86a173",
   "metadata": {},
   "outputs": [],
   "source": [
    "same = get_same(genomes_arr)"
   ]
  },
  {
   "cell_type": "code",
   "execution_count": null,
   "id": "82cf56b3-1167-4230-b3c7-045476d66866",
   "metadata": {},
   "outputs": [],
   "source": [
    "genomes0 = (''.join( np.array(genomes_arr, dtype = str)[0])).upper()"
   ]
  },
  {
   "cell_type": "code",
   "execution_count": null,
   "id": "cef4e1ed-2259-4ef0-b5c5-245c69dbee5a",
   "metadata": {},
   "outputs": [],
   "source": [
    "aln_coords = get_aln_pos(genomes0)"
   ]
  },
  {
   "cell_type": "code",
   "execution_count": null,
   "id": "e453add3-cd0b-4766-8616-e3806302a8c9",
   "metadata": {
    "scrolled": true,
    "tags": [
     "output_scroll"
    ]
   },
   "outputs": [],
   "source": [
    "M, N, base_err = get_MN(genomes_arr, bam, aln_coords, same)"
   ]
  },
  {
   "cell_type": "code",
   "execution_count": null,
   "id": "64cfb8b5-348c-494b-a4ed-15420276db80",
   "metadata": {},
   "outputs": [],
   "source": [
    "print(f'#base error is {base_err}')"
   ]
  },
  {
   "cell_type": "code",
   "execution_count": null,
   "id": "dce6f0a9-3a62-49c2-8d66-5572d5f01c5f",
   "metadata": {},
   "outputs": [],
   "source": [
    "MC = get_mc(M, N, base_err)"
   ]
  },
  {
   "cell_type": "code",
   "execution_count": null,
   "id": "f2ba9761-7c3f-44fd-85e1-c170e0829a23",
   "metadata": {},
   "outputs": [],
   "source": [
    "idx = [i for i in range(len(MC)) if not np.all(MC[i]==MC[i,0])]\n",
    "MC = MC[idx]"
   ]
  },
  {
   "cell_type": "code",
   "execution_count": null,
   "id": "43241e05-16a7-4379-977d-770b9da7f352",
   "metadata": {},
   "outputs": [],
   "source": [
    "P = do_mcmc(10000, n_threads=1, model=1, show_each=100)"
   ]
  },
  {
   "cell_type": "code",
   "execution_count": null,
   "id": "0ae611eb-f189-40d7-80b2-1783903f012d",
   "metadata": {},
   "outputs": [],
   "source": []
  }
 ],
 "metadata": {
  "kernelspec": {
   "display_name": "Python 3 (ipykernel)",
   "language": "python",
   "name": "python3"
  },
  "language_info": {
   "codemirror_mode": {
    "name": "ipython",
    "version": 3
   },
   "file_extension": ".py",
   "mimetype": "text/x-python",
   "name": "python",
   "nbconvert_exporter": "python",
   "pygments_lexer": "ipython3",
   "version": "3.10.5"
  }
 },
 "nbformat": 4,
 "nbformat_minor": 5
}
