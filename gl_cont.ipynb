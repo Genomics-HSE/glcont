{
 "cells": [
  {
   "cell_type": "code",
   "execution_count": null,
   "id": "09df247e-e635-4d16-a7e3-d7c0ad8fa9f5",
   "metadata": {},
   "outputs": [],
   "source": [
    "def is_notebook() -> bool:\n",
    "    try:\n",
    "        shell = get_ipython().__class__.__name__\n",
    "        if shell == 'ZMQInteractiveShell':\n",
    "            return True   # Jupyter notebook or qtconsole\n",
    "        elif shell == 'TerminalInteractiveShell':\n",
    "            return False  # Terminal running IPython\n",
    "        else:\n",
    "            return False  # Other type (?)\n",
    "    except NameError:\n",
    "        return False      # Probably standard Python interpreter"
   ]
  },
  {
   "cell_type": "code",
   "execution_count": null,
   "id": "b1aa75fe-421c-4a2a-b911-f7a276a9fc9e",
   "metadata": {},
   "outputs": [],
   "source": [
    "# Здесь загружаются названия референса, файла с ридами (bam), файла с геномами\n",
    "import argparse\n",
    "\n",
    "if is_notebook() == False:\n",
    "    parser = argparse.ArgumentParser(description='Supply reference fasta and bam file')\n",
    "    parser.add_argument('ref',\n",
    "                        help='reference fasta')\n",
    "    parser.add_argument('bam',\n",
    "                        help='bam file')\n",
    "    parser.add_argument('cont',\n",
    "                        help='list of contaminants fasta')\n",
    "\n",
    "\n",
    "    args = parser.parse_args()\n",
    "    ref_fname = args.ref\n",
    "    bam_fname = args.bam\n",
    "    genomes_fname = args.cont\n",
    "    \n",
    "else:\n",
    "    ref_fname     = 'refchrm.fa'\n",
    "    bam_fname     = 'iintest.bam'\n",
    "    genomes_fname = 'contaminants.fa'"
   ]
  },
  {
   "cell_type": "code",
   "execution_count": null,
   "id": "8e5fec4e-32d8-4cc2-9086-2618191e076b",
   "metadata": {},
   "outputs": [],
   "source": [
    "import os\n",
    "from collections import Counter\n",
    "import pysam\n",
    "import numpy as np\n",
    "from tqdm import tqdm\n",
    "from IPython.display import clear_output\n",
    "from scipy.special import binom\n",
    "import scipy.stats as st\n",
    "from Bio import SeqIO\n",
    "from Bio.Seq import Seq\n",
    "from Bio.SeqRecord import SeqRecord\n",
    "from multiprocess import Pool\n",
    "import matplotlib.pyplot as plt\n",
    "import seaborn as sns\n",
    "from preprocess import *\n",
    "\n",
    "os.system('python setup.py build_ext --inplace')\n",
    "from MN import *"
   ]
  },
  {
   "cell_type": "code",
   "execution_count": null,
   "id": "c423332d-0eaf-4e29-8282-ad522d07fe8a",
   "metadata": {},
   "outputs": [],
   "source": [
    "def get_base_err(bam_fname, ref, aln_pos, same_set):\n",
    "    bam = pysam.AlignmentFile(bam_fname, \"rb\")\n",
    "    correct = 0\n",
    "    incorrect = 0\n",
    "    for readId, read in enumerate(bam.fetch('chrM')):\n",
    "        \n",
    "        if not read.is_mapped or 'D' in read.cigarstring or 'I' in read.cigarstring:\n",
    "            continue\n",
    "            \n",
    "        seq = read.query_sequence\n",
    "        pos = read.reference_start\n",
    "        \n",
    "        if read.cigartuples[0][0] == 4: #read is soft clipped\n",
    "            left_trim = read.cigartuples[0][1]\n",
    "            seq = seq[left_trim:]\n",
    "                        \n",
    "\n",
    "                        \n",
    "        \n",
    "        offset = 0\n",
    "        debug_str = ''\n",
    "\n",
    "        for k in range(len(seq)):\n",
    "            if aln_pos[pos+k] in same_set:\n",
    "                if seq[k].upper() == ref[aln_pos[pos+k]]:\n",
    "                    correct+=1\n",
    "                else:\n",
    "                    # print(pos, k, readId)\n",
    "                    incorrect += 1\n",
    "    return correct, incorrect, incorrect/(correct + incorrect)\n",
    "                \n",
    "    "
   ]
  },
  {
   "cell_type": "code",
   "execution_count": null,
   "id": "b376503d-53df-4e89-9c3f-936a31289236",
   "metadata": {},
   "outputs": [],
   "source": [
    "# def consensus_caller(ref_fname, bam_fname):\n",
    "#     base = bam_fname[:-4]\n",
    "#     os.system(f\"samtools view {bam_fname} chrM -o {base+'_mt.bam'}\")\n",
    "#     base = base + '_mt'\n",
    "#     os.system(f'samtools consensus -o {base}_st.fa {bam_fname}') #st means samtools\n",
    "#     os.system(f'bwa index -a bwtsw {base}_st.fa') #indexing consensus\n",
    "#     os.system(f'samtools faidx {base}_st.fa')\n",
    "#     os.system(f'rm {base}.dict')\n",
    "#     os.system(f'picard CreateSequenceDictionary R={base}.fa O={base}.dict')\n",
    "#     os.system(f'samtools fastq {bam_fname} > {base}.fq')\n",
    "#     os.system(f'bwa aln -l 1000 -t 10 {base}_st.fa {base}.fq > {base}_ra.sai')\n",
    "#     os.system(f\"bwa samse -r '@RG\\\\tID:{base}\\\\tLB:{base}_L1\\\\tPL:ILLUMINA\\\\tSM:{base}' {base}_st.fa {base}_ra.sai {base}.fq |  samtools sort -O BAM -o {base}_ra.sort.bam\")\n",
    "#     os.system(f'samtools index {base}_ra.sort.bam')\n",
    "#     consensus = bam2consensus(f'{base}_st.fa', f'{base}_ra.sort.bam')\n",
    "#     consensus_fa = '>chrM\\n'+''.join(consensus) +'\\n'\n",
    "#     with open(f'{base}.fa', 'w') as new_genomes:\n",
    "#         new_genomes.write(consensus_fa)\n",
    "#     return consensus\n",
    "    \n",
    "    "
   ]
  },
  {
   "cell_type": "code",
   "execution_count": null,
   "id": "fafffee6-7c80-476a-bca2-f26ca84d894e",
   "metadata": {},
   "outputs": [],
   "source": []
  },
  {
   "cell_type": "code",
   "execution_count": null,
   "id": "64b3bd29-c667-428f-8c2e-d8f0c348c150",
   "metadata": {},
   "outputs": [],
   "source": [
    "def make_genomes_arr(genomes_fname):\n",
    "    genomes = list()\n",
    "    for record in SeqIO.parse(genomes_fname, \"fasta\"):\n",
    "        genomes.append(str(record.seq))\n",
    "    genomes_arr = np.array([list(x) for x in genomes], dtype = 'S1')\n",
    "    return genomes_arr"
   ]
  },
  {
   "cell_type": "code",
   "execution_count": null,
   "id": "7c4dff22-5941-4efe-9b5d-525397f7016b",
   "metadata": {},
   "outputs": [],
   "source": [
    "def get_same(genomes_arr):\n",
    "    same_positions = []\n",
    "    for i in range(genomes_arr.shape[1]):\n",
    "        if len(np.unique(genomes_arr[:,i])) == 1:\n",
    "            same_positions.append(i)\n",
    "    return set(same_positions)"
   ]
  },
  {
   "cell_type": "code",
   "execution_count": null,
   "id": "e8076281-95a3-4f18-846c-3c122afcd7f9",
   "metadata": {},
   "outputs": [],
   "source": [
    "def get_base_err(bam_fname, same_dict):\n",
    "    samfile = pysam.AlignmentFile(bam_fname, \"rb\" )\n",
    "    same_positions = list(same_dict.keys())\n",
    "    correct = 0\n",
    "    total = 0\n",
    "    samfile = pysam.AlignmentFile(bam_fname, \"rb\" )\n",
    "    for pileupcolumn in tqdm(samfile.pileup(\"chrM\")):\n",
    "        pos = pileupcolumn.pos\n",
    "        if pos not in same_positions:\n",
    "            continue\n",
    "\n",
    "        for pileupread in pileupcolumn.pileups:\n",
    "            if not pileupread.is_del and not pileupread.is_refskip:\n",
    "                total += 1\n",
    "                # query position is None if is_del or is_refskip is set.\n",
    "                nbase =  pileupread.alignment.query_sequence[pileupread.query_position]\n",
    "                if nbase == same[pos].decode('ascii').upper():\n",
    "                    correct += 1\n",
    "    base_err = 1 - correct/total\n",
    "    samfile.close()\n",
    "    return base_err"
   ]
  },
  {
   "cell_type": "code",
   "execution_count": null,
   "id": "e32bd846-3716-499a-8363-493c5985bf06",
   "metadata": {},
   "outputs": [],
   "source": [
    "def get_aln_pos(reference):\n",
    "    aln_coor = []\n",
    "    for i in range(len(reference)):\n",
    "        if reference[i] != '-':\n",
    "            aln_coor.append(i)\n",
    "            \n",
    "    return np.asarray(aln_coor)"
   ]
  },
  {
   "cell_type": "code",
   "execution_count": null,
   "id": "8b35a145-06e6-4b4e-81db-8c68fc38ceb1",
   "metadata": {},
   "outputs": [],
   "source": [
    "def do_mcmc(n_iterations = 50000, output_file='', n_threads=8, model=0, show_each=10):\n",
    "    if output_file != '':\n",
    "        res = open(output_file,'w')\n",
    "    p_list = []\n",
    "    num_reads, num_genomes  = MC.shape\n",
    "    print(MC.shape)\n",
    "    p = np.random.dirichlet([1]*num_genomes)\n",
    "    # pool = Pool(n_threads)\n",
    "    for i in tqdm(range(n_iterations) ):\n",
    "        \n",
    "        func = lambda x: get_Zi(MC, p, base_err, x)\n",
    "        \n",
    "        # Z = np.array(pool.map_async(func, range(num_reads)).get())\n",
    "        Z = np.array([func(s) for s in range(num_reads) ])\n",
    "        eta = get_eta(Z, num_genomes)\n",
    "        if model == 0:\n",
    "            p0 = np.random.beta(1 + eta[0],1+num_reads-eta[0])\n",
    "            p_other = np.random.dirichlet(1+ eta[1:])\n",
    "            p_other *= (1-p0)/p_other.sum()\n",
    "\n",
    "            p[0] = p0\n",
    "            p[1:] = p_other\n",
    "            p_list.append(p[0])\n",
    "        else:\n",
    "            p = np.random.dirichlet(1+ eta)\n",
    "            p_list.append(p[0])\n",
    "        if output_file != '':\n",
    "            res.write(f'iteration {i}')\n",
    "            res.write(str(p[0]))\n",
    "        if i % show_each == 0:\n",
    "            # print(p[0], p[1:].sum()) \n",
    "            print(p)\n",
    "    # pool.close()\n",
    "    if output_file != '':\n",
    "        res.close()\n",
    "    return p_list"
   ]
  },
  {
   "cell_type": "code",
   "execution_count": null,
   "id": "a82e67d1-81e5-4541-b06f-76e76734529f",
   "metadata": {
    "tags": [
     "\"output_scroll\""
    ]
   },
   "outputs": [],
   "source": [
    "bam, genomes = preprocess(ref_fname, genomes_fname, bam_fname)"
   ]
  },
  {
   "cell_type": "code",
   "execution_count": null,
   "id": "1dbe02b6-fe18-4ca8-bc1f-1f83439a8806",
   "metadata": {},
   "outputs": [],
   "source": [
    "# bam = 'simulated_data.bam'"
   ]
  },
  {
   "cell_type": "code",
   "execution_count": null,
   "id": "ef5022fa-8d41-4b0b-8f70-47698cd03d6b",
   "metadata": {},
   "outputs": [],
   "source": [
    "genomes_arr = make_genomes_arr(genomes)"
   ]
  },
  {
   "cell_type": "code",
   "execution_count": null,
   "id": "3229271a-b409-4107-ae82-43dc50042661",
   "metadata": {},
   "outputs": [],
   "source": [
    "np.sum(genomes_arr[0] != genomes_arr[1])"
   ]
  },
  {
   "cell_type": "code",
   "execution_count": null,
   "id": "4ad18a60-14fd-413f-8b13-f860ea56c03a",
   "metadata": {},
   "outputs": [],
   "source": [
    "genomes_arr.shape"
   ]
  },
  {
   "cell_type": "code",
   "execution_count": null,
   "id": "a3233412-a487-4c04-89d7-f951e3fe8710",
   "metadata": {},
   "outputs": [],
   "source": [
    "genomes_arr"
   ]
  },
  {
   "cell_type": "code",
   "execution_count": null,
   "id": "1cc37f94-f8af-499f-acff-cbd133ab98cc",
   "metadata": {},
   "outputs": [],
   "source": [
    "genomes"
   ]
  },
  {
   "cell_type": "code",
   "execution_count": null,
   "id": "cf5eed8e-626a-46cc-848f-a044393d15f7",
   "metadata": {},
   "outputs": [],
   "source": [
    "genomes_arr"
   ]
  },
  {
   "cell_type": "code",
   "execution_count": null,
   "id": "48fcb8d5-78c1-484e-a736-0341bf86a173",
   "metadata": {},
   "outputs": [],
   "source": [
    "same = get_same(genomes_arr)"
   ]
  },
  {
   "cell_type": "code",
   "execution_count": null,
   "id": "fdcc15c6-b981-40d0-8b03-6c47266d4eb3",
   "metadata": {},
   "outputs": [],
   "source": [
    "genomes0 = (''.join( np.array(genomes_arr, dtype = str)[0])).upper()\n",
    "genomes1 = (''.join( np.array(genomes_arr, dtype = str)[1])).upper()"
   ]
  },
  {
   "cell_type": "code",
   "execution_count": null,
   "id": "bcdb29b8-9b82-47f8-b88f-ca97b1393fa0",
   "metadata": {},
   "outputs": [],
   "source": [
    "genomes0.count('N')"
   ]
  },
  {
   "cell_type": "code",
   "execution_count": null,
   "id": "72a7d14a-5a95-4dff-ac41-1cea77f743a3",
   "metadata": {},
   "outputs": [],
   "source": [
    "pysam.view('-c', bam)"
   ]
  },
  {
   "cell_type": "code",
   "execution_count": null,
   "id": "03770984-1033-4d39-8200-8abf0d6afa42",
   "metadata": {},
   "outputs": [],
   "source": [
    "genomes_arr"
   ]
  },
  {
   "cell_type": "code",
   "execution_count": null,
   "id": "cef4e1ed-2259-4ef0-b5c5-245c69dbee5a",
   "metadata": {},
   "outputs": [],
   "source": [
    "aln_coords = get_aln_pos(genomes0)"
   ]
  },
  {
   "cell_type": "code",
   "execution_count": null,
   "id": "532cd8ae-039b-488b-8aa2-11d0b559066d",
   "metadata": {},
   "outputs": [],
   "source": [
    "#glmc = get_glM(genomes_arr, bam, aln_coords, same)"
   ]
  },
  {
   "cell_type": "code",
   "execution_count": null,
   "id": "5f6381fb-c34b-4d92-b055-311b1ef5c165",
   "metadata": {},
   "outputs": [],
   "source": [
    "#glmc"
   ]
  },
  {
   "cell_type": "code",
   "execution_count": null,
   "id": "e453add3-cd0b-4766-8616-e3806302a8c9",
   "metadata": {
    "scrolled": true,
    "tags": [
     "output_scroll"
    ]
   },
   "outputs": [],
   "source": [
    "M, N, base_err = get_MN(genomes_arr, bam, aln_coords, same)"
   ]
  },
  {
   "cell_type": "code",
   "execution_count": null,
   "id": "6cb1252f-27af-404c-9724-cf5e0bde094b",
   "metadata": {},
   "outputs": [],
   "source": [
    "base_err"
   ]
  },
  {
   "cell_type": "code",
   "execution_count": null,
   "id": "f851e70d-8aac-4391-b4ce-c341c90a0260",
   "metadata": {},
   "outputs": [],
   "source": [
    "((M[:, 0] < N[:, 0])).sum() + (M[:,0] == -1).sum()"
   ]
  },
  {
   "cell_type": "code",
   "execution_count": null,
   "id": "9210c371-d448-43bc-8297-17d0b2e39741",
   "metadata": {},
   "outputs": [],
   "source": [
    "# it = 4147\n",
    "# samfile = pysam.AlignmentFile(bam, \"rb\" )\n",
    "# read = list(samfile.fetch('chrM'))[it]\n",
    "# print(M[it], N[it])\n",
    "# print(read.cigarstring)\n",
    "# aln_pos = aln_coords[read.pos]\n",
    "# print(aln_coords[read.pos])\n",
    "# print(read.seq)\n",
    "# genome = (''.join( np.array(genomes_arr, dtype = str)[1])).upper()\n",
    "# print(genome[aln_coords[read.pos]: aln_coords[read.pos] + 120])"
   ]
  },
  {
   "cell_type": "code",
   "execution_count": null,
   "id": "bd44212b-23db-46cd-b916-eadb76a15533",
   "metadata": {},
   "outputs": [],
   "source": [
    "M"
   ]
  },
  {
   "cell_type": "code",
   "execution_count": null,
   "id": "f73e6881-aa5d-4c66-b70d-a658f9525e55",
   "metadata": {},
   "outputs": [],
   "source": [
    "genomes0.count('-')"
   ]
  },
  {
   "cell_type": "code",
   "execution_count": null,
   "id": "4972b270-91a7-437f-bf69-4f71a2d05afa",
   "metadata": {},
   "outputs": [],
   "source": [
    "# При большой ошибке большое число ридов не картируется, из-за чего точность оценки base_error падаеты"
   ]
  },
  {
   "cell_type": "code",
   "execution_count": null,
   "id": "7b68fe80-1e52-4f21-b4d7-78c8fd566461",
   "metadata": {},
   "outputs": [],
   "source": [
    "for i in range(M.shape[0]):\n",
    "    for j in range(M.shape[1]):\n",
    "        if M[i, j] < N[i, j]:\n",
    "            M[i, j] = -1\n",
    "            N[i, j] = -1"
   ]
  },
  {
   "cell_type": "code",
   "execution_count": null,
   "id": "bb599702-258d-4b72-bece-2568adb55476",
   "metadata": {},
   "outputs": [],
   "source": [
    "# (M[:,0] > M[:,1]).sum()/(M[:,0] != M[:,1]).sum()"
   ]
  },
  {
   "cell_type": "code",
   "execution_count": null,
   "id": "64cfb8b5-348c-494b-a4ed-15420276db80",
   "metadata": {},
   "outputs": [],
   "source": [
    "print(f'#base error is {base_err}')"
   ]
  },
  {
   "cell_type": "code",
   "execution_count": null,
   "id": "dce6f0a9-3a62-49c2-8d66-5572d5f01c5f",
   "metadata": {},
   "outputs": [],
   "source": [
    "MC = get_mc(M, N, 0.01)"
   ]
  },
  {
   "cell_type": "code",
   "execution_count": null,
   "id": "f2ba9761-7c3f-44fd-85e1-c170e0829a23",
   "metadata": {},
   "outputs": [],
   "source": [
    "idx = [i for i in range(len(MC)) if not np.all(MC[i]==MC[i,0])]\n",
    "MC = MC[idx]"
   ]
  },
  {
   "cell_type": "code",
   "execution_count": null,
   "id": "bc3ae5ee-777d-4de3-87ba-9d2067bee8ee",
   "metadata": {},
   "outputs": [],
   "source": [
    "# vec = np.array([2,2,2,2])"
   ]
  },
  {
   "cell_type": "code",
   "execution_count": null,
   "id": "670c0d31-f283-4f7a-be0b-1c7a89b3bd3e",
   "metadata": {},
   "outputs": [],
   "source": [
    "# vec[0] == vec[1:]"
   ]
  },
  {
   "cell_type": "code",
   "execution_count": null,
   "id": "89f709d8-b1d6-4266-a416-765ad492e130",
   "metadata": {},
   "outputs": [],
   "source": [
    "# idx"
   ]
  },
  {
   "cell_type": "code",
   "execution_count": null,
   "id": "2cf00af3-ec41-4fe7-ac92-c18334ead07c",
   "metadata": {},
   "outputs": [],
   "source": [
    " # (MC[:,0]!=0) *  (MC[:,1]!=0) * (M[:,1]>N[:,1])"
   ]
  },
  {
   "cell_type": "code",
   "execution_count": null,
   "id": "44a39214-064d-4400-a153-c4aa110b972e",
   "metadata": {},
   "outputs": [],
   "source": []
  },
  {
   "cell_type": "code",
   "execution_count": null,
   "id": "8a8d86dd-5a60-495d-bfba-9cf0be771bd5",
   "metadata": {},
   "outputs": [],
   "source": [
    "MC"
   ]
  },
  {
   "cell_type": "code",
   "execution_count": null,
   "id": "3b1ceec6-7fec-4f25-94b7-08838a7737c1",
   "metadata": {},
   "outputs": [],
   "source": [
    "(MC[:,0]>MC[:,1]).mean()"
   ]
  },
  {
   "cell_type": "code",
   "execution_count": null,
   "id": "1930ac58-ad54-43c0-a88f-ef1e4f5f4317",
   "metadata": {},
   "outputs": [],
   "source": [
    "# MC = get_glM()"
   ]
  },
  {
   "cell_type": "code",
   "execution_count": null,
   "id": "d0015cd3-5b85-4fb6-8a9d-903c5936a658",
   "metadata": {},
   "outputs": [],
   "source": [
    "# np.sum((M[:,1]>M[:,0] + 4))"
   ]
  },
  {
   "cell_type": "code",
   "execution_count": null,
   "id": "43241e05-16a7-4379-977d-770b9da7f352",
   "metadata": {},
   "outputs": [],
   "source": [
    "P = do_mcmc(10000, n_threads=1, model=1, show_each=100)"
   ]
  },
  {
   "cell_type": "code",
   "execution_count": null,
   "id": "c614e3f2-d91b-41c1-8ec4-faa4b0c47b2e",
   "metadata": {},
   "outputs": [],
   "source": [
    "import matplotlib.pyplot as plt"
   ]
  },
  {
   "cell_type": "code",
   "execution_count": null,
   "id": "3138fe6e-2b68-4b1d-99aa-102f4081daf4",
   "metadata": {},
   "outputs": [],
   "source": [
    "fig, (ax1, ax2) = plt.subplots(1, 2, figsize=(15,3), gridspec_kw={'width_ratios': [3.2, 1]})\n",
    "ax1.plot(np.asarray(P[100::5]), label='MCMC')\n",
    "# x = [0, 50000]\n",
    "# y = [0.6, 0.6]\n",
    "# ax1.plot(x, y, label='Presice')\n",
    "ax1.legend()\n",
    "sns.kdeplot(np.asarray(P[100::5])-0.01, cut=0);\n",
    "# fig.suptitle('Test 9.')"
   ]
  },
  {
   "cell_type": "code",
   "execution_count": null,
   "id": "bdf03338-8c58-4fbd-bdda-51814a1457bb",
   "metadata": {},
   "outputs": [],
   "source": [
    "fig, (ax1, ax2) = plt.subplots(1, 2, figsize=(15,3), gridspec_kw={'width_ratios': [3.2, 1]})\n",
    "ax1.plot(np.asarray(np.array(P[100::5])), label='MCMC')\n",
    "# x = [0, 50000]\n",
    "# y = [0.6, 0.6]\n",
    "# ax1.plot(x, y, label='Presice')\n",
    "ax1.legend()\n",
    "sns.kdeplot(np.asarray(P[100::5]), cut=0);"
   ]
  },
  {
   "cell_type": "code",
   "execution_count": null,
   "id": "8f8eebbb-1bf1-4911-853e-d17148ff2cfb",
   "metadata": {},
   "outputs": [],
   "source": [
    "sns.displot(np.asarray(P[::1000]), kind='kde', cut=0);\n",
    "plt.show()\n",
    "plt.hist(P[::1000], bins=20);"
   ]
  },
  {
   "cell_type": "code",
   "execution_count": null,
   "id": "8cd8394b-6568-46b7-9601-505fa587c139",
   "metadata": {},
   "outputs": [],
   "source": [
    "num_reads, num_genomes = MC.shape"
   ]
  },
  {
   "cell_type": "code",
   "execution_count": null,
   "id": "fa1eb6b0-3ff9-4bcd-842b-812f09eaf3fa",
   "metadata": {},
   "outputs": [],
   "source": [
    "p = np.array([0.5] + [1/(num_genomes-1)]*(num_genomes-1))"
   ]
  },
  {
   "cell_type": "code",
   "execution_count": null,
   "id": "3aee1057-c1a7-4186-b932-3e57fd148bb1",
   "metadata": {},
   "outputs": [],
   "source": [
    "%timeit get_Zi(MC, p, num_genomes, 2)"
   ]
  },
  {
   "cell_type": "code",
   "execution_count": null,
   "id": "fc21bd02-b128-4c56-98e3-448698233f16",
   "metadata": {},
   "outputs": [],
   "source": [
    "dif"
   ]
  },
  {
   "cell_type": "code",
   "execution_count": null,
   "id": "d6334ce1-e3c6-4b86-8024-bb29f46aa19a",
   "metadata": {},
   "outputs": [],
   "source": [
    "contamix_ref[514]"
   ]
  },
  {
   "cell_type": "code",
   "execution_count": null,
   "id": "8c66a9b8-2d1c-40d1-b315-4ab57775c283",
   "metadata": {},
   "outputs": [],
   "source": [
    "cons[16179]"
   ]
  },
  {
   "cell_type": "code",
   "execution_count": null,
   "id": "d55ef623-ac1f-44ec-805b-371d30e0191e",
   "metadata": {},
   "outputs": [],
   "source": [
    "def get_num_indels(bam_fname, trunc = 7):\n",
    "    samfile = pysam.AlignmentFile(bam_fname, \"rb\" )\n",
    "    num_reads = 0\n",
    "    for read in samfile.fetch('chrM'):\n",
    "        if not read.is_mapped or read.pos < trunc:\n",
    "            continue\n",
    "        if \"I\" in read.cigarstring:\n",
    "            num_reads += 1\n",
    "    samfile.close()\n",
    "    return num_reads"
   ]
  },
  {
   "cell_type": "code",
   "execution_count": null,
   "id": "9ca1adfd-ccf6-42c9-8f03-997413d437c6",
   "metadata": {},
   "outputs": [],
   "source": [
    "get_num_indels(bam)"
   ]
  },
  {
   "cell_type": "code",
   "execution_count": null,
   "id": "a394b1c2-0ff9-48ad-9c8c-bb0296fe553b",
   "metadata": {},
   "outputs": [],
   "source": [
    "def get_cigar_string(bam_fname):\n",
    "    ''''\n",
    "    This function calculate mapped reads\n",
    "    '''\n",
    "    samfile = pysam.AlignmentFile(bam_fname, \"rb\" )\n",
    "    \n",
    "    for read in samfile.fetch('chrM'):\n",
    "    print(read.cigartuples)\n",
    "    samfile.close()"
   ]
  },
  {
   "cell_type": "code",
   "execution_count": null,
   "id": "be90e70a-2ea7-47c2-90bf-05ba4a576781",
   "metadata": {},
   "outputs": [],
   "source": [
    "samfile = pysam.AlignmentFile(bam, \"rb\" )\n",
    "read = list(samfile.fetch('chrM'))[432]\n",
    "print(read.cigartuples)\n",
    "print(aln_coords[read.pos])\n",
    "print(read.seq)\n",
    "genome = (''.join( np.array(genomes_arr, dtype = str)[1])).upper()\n",
    "print(genome[213: 326].replace('-',''))"
   ]
  },
  {
   "cell_type": "code",
   "execution_count": null,
   "id": "784f8ff8-d752-4173-bfb4-fd866a564068",
   "metadata": {
    "scrolled": true,
    "tags": []
   },
   "outputs": [],
   "source": [
    "j = 0\n",
    "for i in range(num_reads):\n",
    "    if (MC[i,:].sum()) == 0:\n",
    "        print(i)"
   ]
  },
  {
   "cell_type": "code",
   "execution_count": null,
   "id": "f1bd05c4-43f0-4c61-b4d2-49291cf0efe9",
   "metadata": {},
   "outputs": [],
   "source": [
    "get_num_reads(bam)"
   ]
  },
  {
   "cell_type": "code",
   "execution_count": null,
   "id": "cb7536a6-32b5-4cec-b257-844b9030b4ff",
   "metadata": {},
   "outputs": [],
   "source": [
    "def calculate_likelihood(probs, mc):\n",
    "    probs = np.asarray(probs)\n",
    "    num_reads, num_genomes = mc.shape\n",
    "    log_l = 0\n",
    "    for i in range(num_reads):\n",
    "        log_l += np.log((probs*MC[i,:]).sum())\n",
    "    return log_l\n",
    "\n",
    "            "
   ]
  },
  {
   "cell_type": "code",
   "execution_count": null,
   "id": "ff5de959-4e77-4f38-ae31-c9f834bf5625",
   "metadata": {},
   "outputs": [],
   "source": []
  },
  {
   "cell_type": "code",
   "execution_count": null,
   "id": "cef0f8a4-d17e-4598-a8ee-b8c64771a460",
   "metadata": {},
   "outputs": [],
   "source": [
    "calculate_likelihood([0.8, 0.2, 0], MC)"
   ]
  },
  {
   "cell_type": "code",
   "execution_count": null,
   "id": "569c8e87-9d85-48e7-9b41-9d24860e7633",
   "metadata": {},
   "outputs": [],
   "source": [
    "calculate_likelihood([0.7, 0.1, 0.2], MC)"
   ]
  },
  {
   "cell_type": "code",
   "execution_count": null,
   "id": "79899b20-fd9f-4a03-bc60-c0333e1f3498",
   "metadata": {},
   "outputs": [],
   "source": [
    "calculate_likelihood([0.99, 0.01, 0], MC)"
   ]
  },
  {
   "cell_type": "code",
   "execution_count": null,
   "id": "087907de-c5e0-4dc1-88d5-746509f09034",
   "metadata": {},
   "outputs": [],
   "source": [
    "p3 = np.asarray([0.9] + [0.1]*(num_genomes-1))"
   ]
  },
  {
   "cell_type": "code",
   "execution_count": null,
   "id": "7e37c947-f944-4369-a4e5-7ef6bb16ff47",
   "metadata": {},
   "outputs": [],
   "source": [
    "np.where(M[:,0]>M[:,1]+5)"
   ]
  },
  {
   "cell_type": "code",
   "execution_count": null,
   "id": "b941811f-d4a6-4f15-a5c0-ae791329ddaa",
   "metadata": {},
   "outputs": [],
   "source": [
    "calculate_likelihood(p3, MC)"
   ]
  },
  {
   "cell_type": "code",
   "execution_count": null,
   "id": "8e546e33-f3da-4bd4-a526-a931dee818f8",
   "metadata": {},
   "outputs": [],
   "source": []
  },
  {
   "cell_type": "code",
   "execution_count": null,
   "id": "5c0c72bf-04d3-4321-8feb-9239a14c1c98",
   "metadata": {},
   "outputs": [],
   "source": [
    "p4 = np.asarray([0.7] + [0.3/(num_genomes-1)]*(num_genomes-1))"
   ]
  },
  {
   "cell_type": "code",
   "execution_count": null,
   "id": "0a9671b1-c9e6-45cd-b7fc-0c4b20993183",
   "metadata": {},
   "outputs": [],
   "source": [
    "calculate_likelihood([0.8, 0.2], MC)"
   ]
  },
  {
   "cell_type": "code",
   "execution_count": null,
   "id": "d3593a63-f597-44fe-9647-54a9107898b0",
   "metadata": {},
   "outputs": [],
   "source": [
    "p5 = np.asarray([0.6] + [0.4/(num_genomes-1)]*(num_genomes-1))"
   ]
  },
  {
   "cell_type": "code",
   "execution_count": null,
   "id": "40eed678-d059-4295-a028-5c04172cf930",
   "metadata": {},
   "outputs": [],
   "source": [
    "calculate_likelihood(p5, MC)"
   ]
  },
  {
   "cell_type": "code",
   "execution_count": null,
   "id": "75131e8c-1976-4675-9c11-b73d2f557ad1",
   "metadata": {},
   "outputs": [],
   "source": [
    "seq1==seq2"
   ]
  },
  {
   "cell_type": "code",
   "execution_count": null,
   "id": "fd71139d-bead-4580-acb6-9078d73ef9f1",
   "metadata": {},
   "outputs": [],
   "source": [
    "genomes_arr"
   ]
  },
  {
   "cell_type": "code",
   "execution_count": null,
   "id": "8942fb3c-e592-4f6c-8c71-8613e569e083",
   "metadata": {},
   "outputs": [],
   "source": [
    "def get_probs(mc, p):\n",
    "    num_reads, num_genomes = mc.shape\n",
    "    p = np.asarray(p)\n",
    "    \n",
    "    probs = np.zeros_like(mc)\n",
    "    # probs = np.zeros(num_genomes, dtype = float)\n",
    "    for i in range(num_reads):\n",
    "        s = 0\n",
    "        for j in range(num_genomes):\n",
    "            probs[i, j] = mc[i, j] * p[j]\n",
    "            s += probs[i, j]\n",
    "        for j in range(num_genomes):\n",
    "            probs[i, j] = probs[i, j] / s\n",
    "    return probs"
   ]
  },
  {
   "cell_type": "code",
   "execution_count": null,
   "id": "9e2f1cd4-3c33-441f-9dd7-5599720435b7",
   "metadata": {},
   "outputs": [],
   "source": [
    "f = get_probs(MC,[0.5, 0.5])"
   ]
  },
  {
   "cell_type": "code",
   "execution_count": null,
   "id": "104c4647-0563-41b1-9387-d2cb323cac2b",
   "metadata": {},
   "outputs": [],
   "source": [
    "(f[:,0]>f[:,1]).mean()"
   ]
  },
  {
   "cell_type": "code",
   "execution_count": null,
   "id": "b3543f8b-c9a3-4ec0-9cc4-327541bace50",
   "metadata": {},
   "outputs": [],
   "source": [
    "p = np.array([0.5, 0.5])"
   ]
  },
  {
   "cell_type": "code",
   "execution_count": null,
   "id": "c99f6da9-0432-4cec-a22d-658873efd643",
   "metadata": {},
   "outputs": [],
   "source": [
    "np.where(np.bitwise_and((-1<M[:,0]),  M[:,0]+1<M[:,1]))[0].shape"
   ]
  },
  {
   "cell_type": "code",
   "execution_count": null,
   "id": "da0dc5bc-80a3-425f-818c-08e73bd85231",
   "metadata": {},
   "outputs": [],
   "source": [
    "np.where(M[:,0]<M[:,1])[0].shape"
   ]
  },
  {
   "cell_type": "code",
   "execution_count": null,
   "id": "fc00aa7d-c0c6-42c0-97d5-4e9388a445fb",
   "metadata": {},
   "outputs": [],
   "source": [
    "M[1590]\n",
    "# N[1590]"
   ]
  },
  {
   "cell_type": "code",
   "execution_count": null,
   "id": "08ceb08c-b0ed-42ea-8786-48fee4b0483b",
   "metadata": {},
   "outputs": [],
   "source": []
  },
  {
   "cell_type": "code",
   "execution_count": null,
   "id": "bdbfa047-b186-43cc-a425-37819030b0b4",
   "metadata": {},
   "outputs": [],
   "source": [
    "genome[801:801+100]"
   ]
  },
  {
   "cell_type": "code",
   "execution_count": null,
   "id": "cc8b5c1d-45a5-4439-bcc5-a92d3542ac64",
   "metadata": {},
   "outputs": [],
   "source": [
    "read.pos"
   ]
  },
  {
   "cell_type": "code",
   "execution_count": null,
   "id": "8ab7d4b4-1109-42c9-ba6b-b2b429b704b7",
   "metadata": {},
   "outputs": [],
   "source": [
    "genome1 = (''.join( np.array(genomes_arr, dtype = str)[0])).upper()\n",
    "genome2 = (''.join( np.array(genomes_arr, dtype = str)[1])).upper()"
   ]
  },
  {
   "cell_type": "code",
   "execution_count": null,
   "id": "341c92c3-674e-4ec1-96ac-82de62b95084",
   "metadata": {},
   "outputs": [],
   "source": [
    "s = 100\n",
    "print(genome1[s: s+100])\n",
    "print(genome2[s: s+100])"
   ]
  },
  {
   "cell_type": "code",
   "execution_count": null,
   "id": "866f2190-797d-4cc3-b2c7-9e0231919262",
   "metadata": {},
   "outputs": [],
   "source": [
    "M[19245, 1]"
   ]
  },
  {
   "cell_type": "code",
   "execution_count": null,
   "id": "08a7ca5a-343f-4a98-9424-2198989c3e03",
   "metadata": {},
   "outputs": [],
   "source": [
    "import sys"
   ]
  },
  {
   "cell_type": "code",
   "execution_count": null,
   "id": "79acea09-e7dc-4038-bc37-adb8472b2f72",
   "metadata": {},
   "outputs": [],
   "source": [
    "np.set_printoptions(threshold=300)"
   ]
  },
  {
   "cell_type": "code",
   "execution_count": null,
   "id": "d28e22c9-9572-42b5-84bd-b748761be2ac",
   "metadata": {},
   "outputs": [],
   "source": [
    "np.where(-1 < M[:,0])[0][0:]"
   ]
  },
  {
   "cell_type": "code",
   "execution_count": null,
   "id": "72d428c5-f970-44fe-ac6c-a5a40b452146",
   "metadata": {},
   "outputs": [],
   "source": [
    "M[598]"
   ]
  },
  {
   "cell_type": "code",
   "execution_count": null,
   "id": "263e7802-d7d1-4cd5-b3c3-d1684172bce8",
   "metadata": {},
   "outputs": [],
   "source": [
    "np.where(np.bitwise_and(M[:,1]<N[:,1], M[:,0] != -1))"
   ]
  },
  {
   "cell_type": "code",
   "execution_count": null,
   "id": "381989f9-8d92-431c-bd99-47dc3b97b735",
   "metadata": {},
   "outputs": [],
   "source": [
    "p"
   ]
  },
  {
   "cell_type": "code",
   "execution_count": null,
   "id": "2f0ec981-dc21-4a28-97b3-0f637f71bb19",
   "metadata": {},
   "outputs": [],
   "source": [
    "get_probs(MC, p, 158)"
   ]
  },
  {
   "cell_type": "code",
   "execution_count": null,
   "id": "5e7fe18e-78fd-40e1-9a8d-b496bd668323",
   "metadata": {},
   "outputs": [],
   "source": [
    "np.where(np.bitwise_and(M[:,1]>M[:,0]+1, M[:,0]>0))[0].shape"
   ]
  },
  {
   "cell_type": "code",
   "execution_count": null,
   "id": "cc587652-9aa9-4b6e-8445-3eedc12b14b5",
   "metadata": {},
   "outputs": [],
   "source": [
    "np.where(M[:,0]<M[:,1])[0]"
   ]
  },
  {
   "cell_type": "code",
   "execution_count": null,
   "id": "7a32832f-932a-4cc4-a1c2-bb67ccb5884a",
   "metadata": {},
   "outputs": [],
   "source": [
    "M[101]"
   ]
  },
  {
   "cell_type": "code",
   "execution_count": null,
   "id": "45438c18-ccb2-4121-90dc-336f75efc65b",
   "metadata": {},
   "outputs": [],
   "source": []
  },
  {
   "cell_type": "code",
   "execution_count": null,
   "id": "99d212c5-7d34-4478-81d6-3312026d0d84",
   "metadata": {},
   "outputs": [],
   "source": [
    "(M[:,0]>M[:,1]).sum()"
   ]
  },
  {
   "cell_type": "code",
   "execution_count": null,
   "id": "40229767-7165-488d-8ba5-b503e014ddb9",
   "metadata": {},
   "outputs": [],
   "source": [
    "N[157]"
   ]
  },
  {
   "cell_type": "code",
   "execution_count": null,
   "id": "7b3bcc92-abbb-4158-b2e0-a7914d66afd5",
   "metadata": {},
   "outputs": [],
   "source": [
    "M.shape"
   ]
  },
  {
   "cell_type": "code",
   "execution_count": null,
   "id": "f01e43e3-7f07-4473-86e2-9bf202b09652",
   "metadata": {},
   "outputs": [],
   "source": [
    "genomes0.count('-')"
   ]
  },
  {
   "cell_type": "code",
   "execution_count": null,
   "id": "0a4bc427-3682-41eb-81a8-bbf285de3269",
   "metadata": {},
   "outputs": [],
   "source": [
    "genome1 = (''.join( np.array(genomes_arr, dtype = str)[1])).upper()"
   ]
  },
  {
   "cell_type": "code",
   "execution_count": null,
   "id": "c8503af2-7f2b-454e-9190-38b7e65b1afd",
   "metadata": {},
   "outputs": [],
   "source": [
    "in10_1 =  genome.replace('-', '')"
   ]
  },
  {
   "cell_type": "code",
   "execution_count": null,
   "id": "9be28421-814d-489a-a3b8-5ef9d822bf79",
   "metadata": {},
   "outputs": [],
   "source": [
    "f = open('data/bam/in10.fa')\n",
    "in10 = f.read()[5:].replace('\\n', '')\n",
    "f = open('data/bam/in1.fa')\n",
    "in1 = f.read()[5:].replace('\\n', '')"
   ]
  },
  {
   "cell_type": "code",
   "execution_count": null,
   "id": "cdd16d3f-b2a8-49f5-b07e-116e338625e2",
   "metadata": {},
   "outputs": [],
   "source": [
    "dif = [i for i in range(16569) if consensus[i] != in10[i]]"
   ]
  },
  {
   "cell_type": "code",
   "execution_count": null,
   "id": "a6141d87-c512-426f-a146-285146fe0231",
   "metadata": {},
   "outputs": [],
   "source": [
    "dif"
   ]
  },
  {
   "cell_type": "code",
   "execution_count": null,
   "id": "db4c7cbc-cd95-4aec-8393-74746ab347c2",
   "metadata": {},
   "outputs": [],
   "source": [
    "cons = bam2consensus('data/bam/output40_in1_60_in10.bam', 1, 0.5)"
   ]
  },
  {
   "cell_type": "code",
   "execution_count": null,
   "id": "0a82f2c8-2237-4fd0-a6db-ccb779b1f75c",
   "metadata": {},
   "outputs": [],
   "source": [
    "cons1 = pysam.consensus('data/bam/output40_in1_60_in10.bam')[5:].replace('\\n','')"
   ]
  },
  {
   "cell_type": "code",
   "execution_count": null,
   "id": "f56c2355-8de3-455f-b174-a8bef4a33cc7",
   "metadata": {},
   "outputs": [],
   "source": [
    "len(cons)"
   ]
  },
  {
   "cell_type": "code",
   "execution_count": null,
   "id": "5427365a-a301-40a0-be9d-7dd6a605082e",
   "metadata": {},
   "outputs": [],
   "source": [
    "len(cons1)"
   ]
  },
  {
   "cell_type": "code",
   "execution_count": null,
   "id": "8c29aecc-84b5-4214-8d63-8715d34ba0a1",
   "metadata": {},
   "outputs": [],
   "source": [
    "dif = [i for i in range(len(cons1)) if cons[i] !=cons1[i]]"
   ]
  },
  {
   "cell_type": "code",
   "execution_count": null,
   "id": "f07bacef-c364-47be-878d-3d79d2aecde8",
   "metadata": {},
   "outputs": [],
   "source": [
    "A = 300\n",
    "B = 30\n",
    "print(cons[A: A + B])\n",
    "print(cons1[A: A + B])"
   ]
  },
  {
   "cell_type": "code",
   "execution_count": null,
   "id": "593e59da-dabe-4874-a3a6-5ef409612f28",
   "metadata": {},
   "outputs": [],
   "source": [
    "cons.count('N')"
   ]
  },
  {
   "cell_type": "code",
   "execution_count": null,
   "id": "b71fcd2c-8b4c-4fef-a350-a60ae9bbf86a",
   "metadata": {},
   "outputs": [],
   "source": [
    "def glMC()"
   ]
  }
 ],
 "metadata": {
  "kernelspec": {
   "display_name": "Python 3 (ipykernel)",
   "language": "python",
   "name": "python3"
  },
  "language_info": {
   "codemirror_mode": {
    "name": "ipython",
    "version": 3
   },
   "file_extension": ".py",
   "mimetype": "text/x-python",
   "name": "python",
   "nbconvert_exporter": "python",
   "pygments_lexer": "ipython3",
   "version": "3.10.5"
  }
 },
 "nbformat": 4,
 "nbformat_minor": 5
}
