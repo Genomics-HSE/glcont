{
 "cells": [
  {
   "cell_type": "code",
   "execution_count": 277,
   "id": "09df247e-e635-4d16-a7e3-d7c0ad8fa9f5",
   "metadata": {},
   "outputs": [],
   "source": [
    "def is_notebook() -> bool:\n",
    "    try:\n",
    "        shell = get_ipython().__class__.__name__\n",
    "        if shell == 'ZMQInteractiveShell':\n",
    "            return True   # Jupyter notebook or qtconsole\n",
    "        elif shell == 'TerminalInteractiveShell':\n",
    "            return False  # Terminal running IPython\n",
    "        else:\n",
    "            return False  # Other type (?)\n",
    "    except NameError:\n",
    "        return False      # Probably standard Python interpreter"
   ]
  },
  {
   "cell_type": "code",
   "execution_count": 278,
   "id": "b1aa75fe-421c-4a2a-b911-f7a276a9fc9e",
   "metadata": {},
   "outputs": [],
   "source": [
    "# Здесь загружаются названия референса, файла с ридами (bam), файла с геномами\n",
    "import argparse\n",
    "\n",
    "if is_notebook() == False:\n",
    "    parser = argparse.ArgumentParser(description='Supply reference fasta and bam file')\n",
    "    parser.add_argument('ref',\n",
    "                        help='reference fasta')\n",
    "    parser.add_argument('bam',\n",
    "                        help='bam file')\n",
    "    parser.add_argument('cont',\n",
    "                        help='list of contaminants fasta')\n",
    "\n",
    "\n",
    "    args = parser.parse_args()\n",
    "    ref_fname = args.ref\n",
    "    bam_fname = args.bam\n",
    "    genomes_fname = args.cont\n",
    "    \n",
    "else:\n",
    "    ref_fname     = 'refchrm.fa'\n",
    "    bam_fname     = 'simulated_data.bam'\n",
    "    genomes_fname = 'contaminants.fa'"
   ]
  },
  {
   "cell_type": "code",
   "execution_count": 279,
   "id": "8e5fec4e-32d8-4cc2-9086-2618191e076b",
   "metadata": {},
   "outputs": [
    {
     "name": "stdout",
     "output_type": "stream",
     "text": [
      "running build_ext\n",
      "copying build/lib.macosx-11.0-arm64-3.10/MN.cpython-310-darwin.so -> \n"
     ]
    }
   ],
   "source": [
    "import os\n",
    "from collections import Counter\n",
    "import pysam\n",
    "import matplotlib.pyplot as plt\n",
    "import numpy as np\n",
    "from tqdm import tqdm\n",
    "from IPython.display import clear_output\n",
    "from scipy.special import binom\n",
    "import scipy.stats as st\n",
    "from Bio import SeqIO\n",
    "from Bio.Seq import Seq\n",
    "from Bio.SeqRecord import SeqRecord\n",
    "from multiprocess import Pool\n",
    "import matplotlib.pyplot as plt\n",
    "import seaborn as sns\n",
    "from preprocess import *\n",
    "from functions import *\n",
    "os.system('python setup.py build_ext --inplace')\n",
    "from MN import *"
   ]
  },
  {
   "cell_type": "code",
   "execution_count": 280,
   "id": "8b35a145-06e6-4b4e-81db-8c68fc38ceb1",
   "metadata": {},
   "outputs": [],
   "source": [
    "def do_mcmc(n_iterations = 50000, output_file='', n_threads=8, model=0, show_each=10):\n",
    "    if output_file != '':\n",
    "        res = open(output_file,'w')\n",
    "    p_list = []\n",
    "    num_reads, num_genomes  = MC.shape\n",
    "    print(MC.shape)\n",
    "    p = np.random.dirichlet([1]*num_genomes)\n",
    "    # pool = Pool(n_threads)\n",
    "    for i in tqdm(range(n_iterations) ):\n",
    "        \n",
    "        func = lambda x: get_Zi(MC, p, base_err, x)\n",
    "        \n",
    "        # Z = np.array(pool.map_async(func, range(num_reads)).get())\n",
    "        Z = np.array([func(s) for s in range(num_reads) ], dtype = int)\n",
    "        eta = get_eta(Z, num_genomes)\n",
    "        if model == 0:\n",
    "            p0 = np.random.beta(1 + eta[0],1+num_reads-eta[0])\n",
    "            p_other = np.random.dirichlet(1+ eta[1:])\n",
    "            p_other *= (1-p0)/p_other.sum()\n",
    "\n",
    "            p[0] = p0\n",
    "            p[1:] = p_other\n",
    "            p_list.append(p[0])\n",
    "        else:\n",
    "            p = np.random.dirichlet(1+ eta)\n",
    "            p_list.append(p[0])\n",
    "        if output_file != '':\n",
    "            res.write(f'iteration {i}')\n",
    "            res.write(str(p[0]))\n",
    "        if i % show_each == 0:\n",
    "            # print(p[0], p[1:].sum()) \n",
    "            print(p)\n",
    "    # pool.close()\n",
    "    if output_file != '':\n",
    "        res.close()\n",
    "    return p_list"
   ]
  },
  {
   "cell_type": "code",
   "execution_count": 281,
   "id": "a82e67d1-81e5-4541-b06f-76e76734529f",
   "metadata": {
    "tags": [
     "\"output_scroll\""
    ]
   },
   "outputs": [
    {
     "name": "stdout",
     "output_type": "stream",
     "text": [
      "#EXTRACTING MTDNA OK\n",
      "#CONSENSUS IS READY\n"
     ]
    },
    {
     "name": "stderr",
     "output_type": "stream",
     "text": [
      "[mpileup] 1 samples in 1 input files\n",
      "[mpileup] maximum number of reads per input file set to -d 2000\n",
      "nthread = 0\n",
      "nthreadpair = 0\n",
      "nthreadtb = 0\n",
      "ppenalty_ex = 0\n",
      "stacksize: 8176 kb\n",
      "generating a scoring matrix for nucleotide (dist=200) ... done\n",
      "Gap Penalty = -1.53, +0.00, +0.00\n",
      "\n",
      "\n",
      "\n",
      "Making a distance matrix ..\n",
      "\n",
      "There are 5 ambiguous characters.\n",
      "    1 / 2\n",
      "done.\n",
      "\n",
      "Constructing a UPGMA tree (efffree=1) ... \n",
      "    0 / 2\n",
      "done.\n",
      "\n",
      "Progressive alignment 1/1... \n",
      "STEP     1 / 1 \n",
      "done.\n",
      "\n",
      "disttbfast (nuc) Version 7.490\n",
      "alg=A, model=DNA200 (2), 1.53 (4.59), -0.00 (-0.00), noshift, amax=0.0\n",
      "0 thread(s)\n",
      "\n",
      "\n",
      "Strategy:\n",
      " FFT-NS-1 (Very fast but very rough)\n",
      " Progressive method (rough guide tree was used.)\n",
      "\n",
      "If unsure which option to use, try 'mafft --auto input > output'.\n",
      "For more information, see 'mafft --help', 'mafft --man' and the mafft page.\n",
      "\n",
      "The default gap scoring scheme has been changed in version 7.110 (2013 Oct).\n",
      "It tends to insert more gaps into gap-rich regions than previous versions.\n",
      "To disable this change, add the --leavegappyregion option.\n",
      "\n",
      "[bwa_index] Pack FASTA... 0.00 sec\n",
      "[bwa_index] Construct BWT for the packed sequence...\n",
      "[BWTIncCreate] textLength=33138, availableWord=65536\n",
      "[bwt_gen] Finished constructing BWT in 3 iterations.\n",
      "[bwa_index] 0.00 seconds elapse.\n",
      "[bwa_index] Update BWT... 0.00 sec\n",
      "[bwa_index] Pack forward-only FASTA... 0.00 sec\n",
      "[bwa_index] Construct SA from BWT and Occ... 0.00 sec\n",
      "[main] Version: 0.7.17-r1188\n",
      "[main] CMD: bwa index -a bwtsw simulated_data_mt.fa\n",
      "[main] Real time: 0.005 sec; CPU: 0.007 sec\n",
      "rm: simulated_data_mt.dict: No such file or directory\n",
      "[M::bam2fq_mainloop] discarded 0 singletons\n",
      "[M::bam2fq_mainloop] processed 4969 reads\n",
      "[M::bwa_idx_load_from_disk] read 0 ALT contigs\n",
      "[M::process] read 4969 sequences (496900 bp)...\n",
      "[M::mem_process_seqs] Processed 4969 reads in 0.049 CPU sec, 0.049 real sec\n",
      "[main] Version: 0.7.17-r1188\n",
      "[main] CMD: bwa mem simulated_data_mt.fa simulated_data_mt.fq\n",
      "[main] Real time: 0.053 sec; CPU: 0.053 sec\n"
     ]
    },
    {
     "name": "stdout",
     "output_type": "stream",
     "text": [
      "#ALL GENOMES ARE READY\n",
      "123\n",
      "#BAM FILE IS READY\n"
     ]
    },
    {
     "name": "stderr",
     "output_type": "stream",
     "text": [
      "rm: simulated_data_mt_ra.sai: No such file or directory\n"
     ]
    }
   ],
   "source": [
    "bam, genomes = preprocess(ref_fname, genomes_fname, bam_fname)"
   ]
  },
  {
   "cell_type": "code",
   "execution_count": 282,
   "id": "ef5022fa-8d41-4b0b-8f70-47698cd03d6b",
   "metadata": {},
   "outputs": [],
   "source": [
    "genomes_arr = make_genomes_arr(genomes)"
   ]
  },
  {
   "cell_type": "code",
   "execution_count": 283,
   "id": "fa043872-3ad9-40c8-83c6-76c0a273f44d",
   "metadata": {},
   "outputs": [
    {
     "data": {
      "text/plain": [
       "array([[b'n', b'n', b'n', ..., b'a', b't', b'g'],\n",
       "       [b'g', b'a', b't', ..., b'a', b't', b'g']], dtype='|S1')"
      ]
     },
     "execution_count": 283,
     "metadata": {},
     "output_type": "execute_result"
    }
   ],
   "source": [
    "genomes_arr"
   ]
  },
  {
   "cell_type": "code",
   "execution_count": 284,
   "id": "48fcb8d5-78c1-484e-a736-0341bf86a173",
   "metadata": {},
   "outputs": [],
   "source": [
    "same = get_same(genomes_arr)"
   ]
  },
  {
   "cell_type": "code",
   "execution_count": 285,
   "id": "82cf56b3-1167-4230-b3c7-045476d66866",
   "metadata": {},
   "outputs": [],
   "source": [
    "genomes0 = (''.join( np.array(genomes_arr, dtype = str)[0])).upper()"
   ]
  },
  {
   "cell_type": "code",
   "execution_count": 286,
   "id": "cef4e1ed-2259-4ef0-b5c5-245c69dbee5a",
   "metadata": {},
   "outputs": [],
   "source": [
    "aln_coords = get_aln_pos(genomes0)"
   ]
  },
  {
   "cell_type": "code",
   "execution_count": 287,
   "id": "e453add3-cd0b-4766-8616-e3806302a8c9",
   "metadata": {
    "scrolled": true,
    "tags": [
     "output_scroll"
    ]
   },
   "outputs": [
    {
     "name": "stderr",
     "output_type": "stream",
     "text": [
      "MN tables: 100%|█████████████████████████| 4969/4969 [00:00<00:00, 12775.56it/s]\n"
     ]
    }
   ],
   "source": [
    "M, N, base_err = get_MN(genomes_arr, bam, aln_coords, same)"
   ]
  },
  {
   "cell_type": "code",
   "execution_count": 288,
   "id": "64cfb8b5-348c-494b-a4ed-15420276db80",
   "metadata": {},
   "outputs": [
    {
     "name": "stdout",
     "output_type": "stream",
     "text": [
      "#base error is 0.00018946341542070956\n"
     ]
    }
   ],
   "source": [
    "print(f'#base error is {base_err}')"
   ]
  },
  {
   "cell_type": "code",
   "execution_count": 289,
   "id": "dce6f0a9-3a62-49c2-8d66-5572d5f01c5f",
   "metadata": {},
   "outputs": [],
   "source": [
    "MC = get_mc(M, N, base_err)"
   ]
  },
  {
   "cell_type": "code",
   "execution_count": 290,
   "id": "2e7f5304-80c8-425c-b4ac-e7bf8257f77a",
   "metadata": {},
   "outputs": [
    {
     "data": {
      "text/plain": [
       "array([[0.98114618, 0.0185922 ],\n",
       "       [0.97851119, 0.01852781],\n",
       "       [0.97649887, 0.0184801 ],\n",
       "       ...,\n",
       "       [0.98123008, 0.98123008],\n",
       "       [0.97854883, 0.97854883],\n",
       "       [0.98123008, 0.98123008]])"
      ]
     },
     "execution_count": 290,
     "metadata": {},
     "output_type": "execute_result"
    }
   ],
   "source": [
    "MC"
   ]
  },
  {
   "cell_type": "code",
   "execution_count": 291,
   "id": "f2ba9761-7c3f-44fd-85e1-c170e0829a23",
   "metadata": {},
   "outputs": [],
   "source": [
    "# idx = [i for i in range(len(MC)) if not np.all(MC[i]==MC[i,0])]\n",
    "# MC = MC[idx]"
   ]
  },
  {
   "cell_type": "code",
   "execution_count": 292,
   "id": "43241e05-16a7-4379-977d-770b9da7f352",
   "metadata": {},
   "outputs": [
    {
     "name": "stdout",
     "output_type": "stream",
     "text": [
      "(4969, 2)\n"
     ]
    },
    {
     "name": "stderr",
     "output_type": "stream",
     "text": [
      "  0%|                                       | 25/10000 [00:00<01:17, 129.30it/s]"
     ]
    },
    {
     "name": "stdout",
     "output_type": "stream",
     "text": [
      "[0.53234551 0.46765449]\n"
     ]
    },
    {
     "name": "stderr",
     "output_type": "stream",
     "text": [
      " 10%|███▊                                 | 1031/10000 [00:06<00:51, 173.23it/s]"
     ]
    },
    {
     "name": "stdout",
     "output_type": "stream",
     "text": [
      "[0.99188416 0.00811584]\n"
     ]
    },
    {
     "name": "stderr",
     "output_type": "stream",
     "text": [
      " 20%|███████▌                             | 2039/10000 [00:11<00:45, 173.33it/s]"
     ]
    },
    {
     "name": "stdout",
     "output_type": "stream",
     "text": [
      "[0.99426753 0.00573247]\n"
     ]
    },
    {
     "name": "stderr",
     "output_type": "stream",
     "text": [
      " 30%|███████████▏                         | 3029/10000 [00:17<00:40, 173.37it/s]"
     ]
    },
    {
     "name": "stdout",
     "output_type": "stream",
     "text": [
      "[0.99266939 0.00733061]\n"
     ]
    },
    {
     "name": "stderr",
     "output_type": "stream",
     "text": [
      " 41%|███████████████                      | 4055/10000 [00:23<00:34, 173.30it/s]"
     ]
    },
    {
     "name": "stdout",
     "output_type": "stream",
     "text": [
      "[0.99306437 0.00693563]\n"
     ]
    },
    {
     "name": "stderr",
     "output_type": "stream",
     "text": [
      " 50%|██████████████████▋                  | 5045/10000 [00:29<00:28, 171.26it/s]"
     ]
    },
    {
     "name": "stdout",
     "output_type": "stream",
     "text": [
      "[0.99570712 0.00429288]\n"
     ]
    },
    {
     "name": "stderr",
     "output_type": "stream",
     "text": [
      " 57%|█████████████████████                | 5696/10000 [00:33<00:25, 171.91it/s]\n"
     ]
    },
    {
     "ename": "KeyboardInterrupt",
     "evalue": "",
     "output_type": "error",
     "traceback": [
      "\u001b[0;31m---------------------------------------------------------------------------\u001b[0m",
      "\u001b[0;31mKeyboardInterrupt\u001b[0m                         Traceback (most recent call last)",
      "Input \u001b[0;32mIn [292]\u001b[0m, in \u001b[0;36m<cell line: 1>\u001b[0;34m()\u001b[0m\n\u001b[0;32m----> 1\u001b[0m P \u001b[38;5;241m=\u001b[39m \u001b[43mdo_mcmc\u001b[49m\u001b[43m(\u001b[49m\u001b[38;5;241;43m10000\u001b[39;49m\u001b[43m,\u001b[49m\u001b[43m \u001b[49m\u001b[43mn_threads\u001b[49m\u001b[38;5;241;43m=\u001b[39;49m\u001b[38;5;241;43m1\u001b[39;49m\u001b[43m,\u001b[49m\u001b[43m \u001b[49m\u001b[43mmodel\u001b[49m\u001b[38;5;241;43m=\u001b[39;49m\u001b[38;5;241;43m0\u001b[39;49m\u001b[43m,\u001b[49m\u001b[43m \u001b[49m\u001b[43mshow_each\u001b[49m\u001b[38;5;241;43m=\u001b[39;49m\u001b[38;5;241;43m1000\u001b[39;49m\u001b[43m)\u001b[49m\n",
      "Input \u001b[0;32mIn [280]\u001b[0m, in \u001b[0;36mdo_mcmc\u001b[0;34m(n_iterations, output_file, n_threads, model, show_each)\u001b[0m\n\u001b[1;32m     11\u001b[0m func \u001b[38;5;241m=\u001b[39m \u001b[38;5;28;01mlambda\u001b[39;00m x: get_Zi(MC, p, base_err, x)\n\u001b[1;32m     13\u001b[0m \u001b[38;5;66;03m# Z = np.array(pool.map_async(func, range(num_reads)).get())\u001b[39;00m\n\u001b[0;32m---> 14\u001b[0m Z \u001b[38;5;241m=\u001b[39m np\u001b[38;5;241m.\u001b[39marray([func(s) \u001b[38;5;28;01mfor\u001b[39;00m s \u001b[38;5;129;01min\u001b[39;00m \u001b[38;5;28mrange\u001b[39m(num_reads) ], dtype \u001b[38;5;241m=\u001b[39m \u001b[38;5;28mint\u001b[39m)\n\u001b[1;32m     15\u001b[0m eta \u001b[38;5;241m=\u001b[39m get_eta(Z, num_genomes)\n\u001b[1;32m     16\u001b[0m \u001b[38;5;28;01mif\u001b[39;00m model \u001b[38;5;241m==\u001b[39m \u001b[38;5;241m0\u001b[39m:\n",
      "Input \u001b[0;32mIn [280]\u001b[0m, in \u001b[0;36m<listcomp>\u001b[0;34m(.0)\u001b[0m\n\u001b[1;32m     11\u001b[0m func \u001b[38;5;241m=\u001b[39m \u001b[38;5;28;01mlambda\u001b[39;00m x: get_Zi(MC, p, base_err, x)\n\u001b[1;32m     13\u001b[0m \u001b[38;5;66;03m# Z = np.array(pool.map_async(func, range(num_reads)).get())\u001b[39;00m\n\u001b[0;32m---> 14\u001b[0m Z \u001b[38;5;241m=\u001b[39m np\u001b[38;5;241m.\u001b[39marray([\u001b[43mfunc\u001b[49m\u001b[43m(\u001b[49m\u001b[43ms\u001b[49m\u001b[43m)\u001b[49m \u001b[38;5;28;01mfor\u001b[39;00m s \u001b[38;5;129;01min\u001b[39;00m \u001b[38;5;28mrange\u001b[39m(num_reads) ], dtype \u001b[38;5;241m=\u001b[39m \u001b[38;5;28mint\u001b[39m)\n\u001b[1;32m     15\u001b[0m eta \u001b[38;5;241m=\u001b[39m get_eta(Z, num_genomes)\n\u001b[1;32m     16\u001b[0m \u001b[38;5;28;01mif\u001b[39;00m model \u001b[38;5;241m==\u001b[39m \u001b[38;5;241m0\u001b[39m:\n",
      "Input \u001b[0;32mIn [280]\u001b[0m, in \u001b[0;36mdo_mcmc.<locals>.<lambda>\u001b[0;34m(x)\u001b[0m\n\u001b[1;32m      8\u001b[0m \u001b[38;5;66;03m# pool = Pool(n_threads)\u001b[39;00m\n\u001b[1;32m      9\u001b[0m \u001b[38;5;28;01mfor\u001b[39;00m i \u001b[38;5;129;01min\u001b[39;00m tqdm(\u001b[38;5;28mrange\u001b[39m(n_iterations) ):\n\u001b[0;32m---> 11\u001b[0m     func \u001b[38;5;241m=\u001b[39m \u001b[38;5;28;01mlambda\u001b[39;00m x: \u001b[43mget_Zi\u001b[49m\u001b[43m(\u001b[49m\u001b[43mMC\u001b[49m\u001b[43m,\u001b[49m\u001b[43m \u001b[49m\u001b[43mp\u001b[49m\u001b[43m,\u001b[49m\u001b[43m \u001b[49m\u001b[43mbase_err\u001b[49m\u001b[43m,\u001b[49m\u001b[43m \u001b[49m\u001b[43mx\u001b[49m\u001b[43m)\u001b[49m\n\u001b[1;32m     13\u001b[0m     \u001b[38;5;66;03m# Z = np.array(pool.map_async(func, range(num_reads)).get())\u001b[39;00m\n\u001b[1;32m     14\u001b[0m     Z \u001b[38;5;241m=\u001b[39m np\u001b[38;5;241m.\u001b[39marray([func(s) \u001b[38;5;28;01mfor\u001b[39;00m s \u001b[38;5;129;01min\u001b[39;00m \u001b[38;5;28mrange\u001b[39m(num_reads) ], dtype \u001b[38;5;241m=\u001b[39m \u001b[38;5;28mint\u001b[39m)\n",
      "\u001b[0;31mKeyboardInterrupt\u001b[0m: "
     ]
    }
   ],
   "source": [
    "P = do_mcmc(10000, n_threads=1, model=0, show_each=1000)"
   ]
  },
  {
   "cell_type": "code",
   "execution_count": 293,
   "id": "0ef687c7-199a-4d9c-9d3a-7626480d27b3",
   "metadata": {},
   "outputs": [
    {
     "data": {
      "text/plain": [
       "<matplotlib.lines.Line2D at 0x168c47940>"
      ]
     },
     "execution_count": 293,
     "metadata": {},
     "output_type": "execute_result"
    },
    {
     "data": {
      "image/png": "[encoded data removed]",
      "text/plain": [
       "<Figure size 432x288 with 1 Axes>"
      ]
     },
     "metadata": {
      "needs_background": "light"
     },
     "output_type": "display_data"
    }
   ],
   "source": [
    "sns.kdeplot(P)\n",
    "plt.axvline(0.85, 0, 0.92)"
   ]
  },
  {
   "cell_type": "code",
   "execution_count": null,
   "id": "0ae611eb-f189-40d7-80b2-1783903f012d",
   "metadata": {},
   "outputs": [],
   "source": []
  }
 ],
 "metadata": {
  "kernelspec": {
   "display_name": "Python 3 (ipykernel)",
   "language": "python",
   "name": "python3"
  },
  "language_info": {
   "codemirror_mode": {
    "name": "ipython",
    "version": 3
   },
   "file_extension": ".py",
   "mimetype": "text/x-python",
   "name": "python",
   "nbconvert_exporter": "python",
   "pygments_lexer": "ipython3",
   "version": "3.10.5"
  }
 },
 "nbformat": 4,
 "nbformat_minor": 5
}
